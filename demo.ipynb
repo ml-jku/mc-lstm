{
 "cells": [
  {
   "cell_type": "code",
   "execution_count": 1,
   "metadata": {
    "collapsed": true
   },
   "outputs": [],
   "source": [
    "import numpy as np\n",
    "import torch\n",
    "from torch.utils.data import DataLoader\n",
    "from tqdm.notebook import trange\n",
    "from matplotlib import pyplot as plt\n",
    "\n",
    "torch.manual_seed(1806)\n",
    "np.set_printoptions(precision=3)"
   ]
  },
  {
   "cell_type": "markdown",
   "source": [
    "# MC-LSTM: a Demo\n",
    "\n",
    "This is a simple demo to illustrate how Mass-Conserving LSTMs (MC-LSTMs) can be used."
   ],
   "metadata": {
    "collapsed": false,
    "pycharm": {
     "name": "#%% md\n"
    }
   }
  },
  {
   "cell_type": "markdown",
   "source": [
    "### LSTM Addition Problem\n",
    "\n",
    "The mass conservation in MC-LSTM is of especially useful for regression problems.\n",
    "Therefore, one of the tasks in the paper is the LSTM addition problem.\n",
    "The data consists of a sequence of inputs and a sequence of markers,\n",
    "and the goal is to predict the sum of marked inputs.\n",
    "This is one of the easiest examples of a problem\n",
    "where the *mass* of the inputs must be conserved."
   ],
   "metadata": {
    "collapsed": false,
    "pycharm": {
     "name": "#%% md\n"
    }
   }
  },
  {
   "cell_type": "code",
   "source": [
    "from experiments.addition.data import Addition\n",
    "data = Addition(1000, seq_len=10, max_mass=.5)\n",
    "loader = DataLoader(data, batch_size=32)\n",
    "xm, xa, y = data[0]\n",
    "\n",
    "print(\"example sample\")\n",
    "print(\"x:\", xm.squeeze())\n",
    "print(\"a:\", xa.squeeze())\n",
    "print(\"y:\", y.squeeze(), \"=\", f\"sum({xm[xa == 1]})\")"
   ],
   "metadata": {
    "collapsed": false,
    "pycharm": {
     "name": "#%%\n"
    }
   },
   "execution_count": 2,
   "outputs": [
    {
     "name": "stdout",
     "output_type": "stream",
     "text": [
      "example sample\n",
      "x: [0.159 0.386 0.174 0.274 0.424 0.323 0.206 0.165 0.234 0.199]\n",
      "a: [ 0.  0.  0.  1.  1.  0.  0.  0.  0. -1.]\n",
      "y: 0.6979072 = sum([0.274 0.424])\n"
     ]
    }
   ]
  },
  {
   "cell_type": "markdown",
   "source": [
    "### MC-LSTM Usage\n",
    "\n",
    "For a regular LSTM, the sequence of inputs and markers would be concatenated into a single sequence.\n",
    "The MC-LSTM distinguishes between *mass* inputs, which represent the quantity to be conserved,\n",
    "and *auxiliary* inputs, which contain other information.\n",
    "Therefore, the construction of the MC-LSTM requires separate mass and auxiliary input dimensions.\n",
    "\n",
    "In this example, we use a MC-LSTM with two cells to optimise the MSE with SGD.\n",
    "We also make use of the default, time-independent gating mechanism,\n",
    "but remember that it is possible to make the gates arbitrarily complex hyper-networks."
   ],
   "metadata": {
    "collapsed": false,
    "pycharm": {
     "name": "#%% md\n"
    }
   }
  },
  {
   "cell_type": "code",
   "execution_count": 3,
   "outputs": [],
   "source": [
    "from mclstm import MassConservingLSTM\n",
    "mc_lstm = MassConservingLSTM(1, 1, 2, time_dependent=False, batch_first=True)\n",
    "mc_lstm.reset_parameters()  # initialisation\n",
    "sgd = torch.optim.SGD(mc_lstm.parameters(), lr=5e-2, momentum=0.99)\n",
    "mse = torch.nn.MSELoss()"
   ],
   "metadata": {
    "collapsed": false,
    "pycharm": {
     "name": "#%%\n"
    }
   }
  },
  {
   "cell_type": "markdown",
   "source": [
    "Note that the distinction between mass and auxiliary inputs is also implemented in the dataloader.\n",
    "Apart from these minor modifications, the MC-LSTM can be trained as a regular LSTM."
   ],
   "metadata": {
    "collapsed": false,
    "pycharm": {
     "name": "#%% md\n"
    }
   }
  },
  {
   "cell_type": "code",
   "execution_count": 4,
   "outputs": [],
   "source": [
    "def update(samples, model, loss, opt):\n",
    "    err_sum = 0\n",
    "    for xm, xa, y in samples:\n",
    "        m_out, c = model(xm, xa)\n",
    "        y_hat = m_out[:, -1:].sum(dim=-1)\n",
    "        err = loss(y_hat, y)\n",
    "        err_sum += err.item()\n",
    "\n",
    "        opt.zero_grad()\n",
    "        err.backward()\n",
    "        opt.step()\n",
    "\n",
    "    return err_sum / len(loader)\n",
    "\n",
    "@torch.no_grad()\n",
    "def evaluate(samples, model, loss):\n",
    "    err_sum = 0\n",
    "    for xm, xa, y in samples:\n",
    "        m_out, c = model(xm, xa)\n",
    "        y_hat = m_out[:, -1:].sum(dim=-1)\n",
    "        err = loss(y_hat, y)\n",
    "        err_sum += err.item()\n",
    "\n",
    "    return err_sum / len(loader)"
   ],
   "metadata": {
    "collapsed": false,
    "pycharm": {
     "name": "#%%\n"
    }
   }
  },
  {
   "cell_type": "code",
   "execution_count": 5,
   "outputs": [
    {
     "data": {
      "text/plain": "HBox(children=(FloatProgress(value=0.0), HTML(value='')))",
      "application/vnd.jupyter.widget-view+json": {
       "version_major": 2,
       "version_minor": 0,
       "model_id": "c2dbd226f1ff414aaa9678690cdb773b"
      }
     },
     "metadata": {},
     "output_type": "display_data"
    },
    {
     "name": "stdout",
     "output_type": "stream",
     "text": [
      "\n"
     ]
    },
    {
     "data": {
      "text/plain": "0.00016922203553804138"
     },
     "execution_count": 5,
     "metadata": {},
     "output_type": "execute_result"
    },
    {
     "data": {
      "text/plain": "<Figure size 432x288 with 1 Axes>",
      "image/png": "[encoded data removed]"
     },
     "metadata": {
      "needs_background": "light"
     },
     "output_type": "display_data"
    }
   ],
   "source": [
    "errs = [evaluate(loader, mc_lstm, mse)]\n",
    "errs += [update(loader, mc_lstm, mse, sgd) for _ in trange(100)]\n",
    "plt.semilogy(errs)\n",
    "errs[-1]"
   ],
   "metadata": {
    "collapsed": false,
    "pycharm": {
     "name": "#%%\n"
    }
   }
  },
  {
   "cell_type": "markdown",
   "source": [
    "### MC-LSTM Generalisation\n",
    "\n",
    "Note that the MC-LSTM could be trained longer to reduce the error even further.\n",
    "However, the evaluation below indicates that it already found a general solution.\n",
    "Whereas the training data contained sequences of length 10 with 2 marked numbers between 0 and 0.5,\n",
    "the test sequence below illustrates that the learned solution generalises quite well."
   ],
   "metadata": {
    "collapsed": false,
    "pycharm": {
     "name": "#%% md\n"
    }
   }
  },
  {
   "cell_type": "code",
   "execution_count": 6,
   "outputs": [
    {
     "name": "stdout",
     "output_type": "stream",
     "text": [
      "x: tensor([[1.3770, 1.4060, 2.7712, 2.7821, 1.6196],\n",
      "        [2.7172, 1.8553, 2.3128, 2.4772, 2.2771],\n",
      "        [2.6702, 1.4422, 2.7337, 1.2465, 0.0204],\n",
      "        [2.2263, 0.6764, 0.9901, 1.9084, 1.4018]])\n",
      "a: tensor([[ 0.,  0.,  0.,  1.,  0.],\n",
      "        [ 0.,  0.,  0.,  0.,  0.],\n",
      "        [ 0.,  0.,  0.,  0.,  1.],\n",
      "        [ 0.,  1.,  0.,  0., -1.]])\n",
      "y: tensor(3.4788)\n",
      "pred: 3.577552318572998\n"
     ]
    }
   ],
   "source": [
    "test = Addition(1, seq_len=20, max_components=5, max_mass=3., seed=1806)\n",
    "test_loader = DataLoader(test)\n",
    "(xm, xa, y), = iter(test_loader)\n",
    "with torch.no_grad():\n",
    "    m_out, c = mc_lstm(xm, xa)\n",
    "print(\"x:\", xm.squeeze().view(4, 5))\n",
    "print(\"a:\", xa.squeeze().view(4, 5))\n",
    "print(\"y:\", y.squeeze())\n",
    "print(\"pred:\", m_out[:, -1].sum(-1).item())"
   ],
   "metadata": {
    "collapsed": false,
    "pycharm": {
     "name": "#%%\n"
    }
   }
  },
  {
   "cell_type": "markdown",
   "source": [
    "Moreover, if we look at the behaviour of the two cell states in the MC-LSTM,\n",
    "we find the behaviour that we would expect:\n",
    "one cell is incremented every time an input is marked by an amount that corresponds to the input value,\n",
    "whereas the other cell accumulates the other values and dumps them every now and then.\n",
    "In the final timestep, the accumulating cell is emptied to provide the prediction."
   ],
   "metadata": {
    "collapsed": false,
    "pycharm": {
     "name": "#%% md\n"
    }
   }
  },
  {
   "cell_type": "code",
   "execution_count": 7,
   "outputs": [
    {
     "data": {
      "text/plain": "Text(0, 0.5, 'cell state value')"
     },
     "execution_count": 7,
     "metadata": {},
     "output_type": "execute_result"
    },
    {
     "data": {
      "text/plain": "<Figure size 432x288 with 1 Axes>",
      "image/png": "[encoded data removed]"
     },
     "metadata": {
      "needs_background": "light"
     },
     "output_type": "display_data"
    }
   ],
   "source": [
    "_, idx, _ = np.where(xa == 1)\n",
    "for i in idx:\n",
    "    plt.axvline(i, color='grey', linestyle='--')\n",
    "plt.plot(c[0])\n",
    "plt.xlabel('time')\n",
    "plt.ylabel('cell state value')"
   ],
   "metadata": {
    "collapsed": false,
    "pycharm": {
     "name": "#%%\n"
    }
   }
  }
 ],
 "metadata": {
  "kernelspec": {
   "display_name": "Python 3",
   "language": "python",
   "name": "python3"
  },
  "language_info": {
   "codemirror_mode": {
    "name": "ipython",
    "version": 2
   },
   "file_extension": ".py",
   "mimetype": "text/x-python",
   "name": "python",
   "nbconvert_exporter": "python",
   "pygments_lexer": "ipython2",
   "version": "2.7.6"
  }
 },
 "nbformat": 4,
 "nbformat_minor": 0
}